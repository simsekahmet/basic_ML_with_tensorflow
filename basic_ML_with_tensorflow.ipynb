{
  "nbformat": 4,
  "nbformat_minor": 0,
  "metadata": {
    "colab": {
      "provenance": [],
      "authorship_tag": "ABX9TyOQ7kfrRnniStMreELC6S4y",
      "include_colab_link": true
    },
    "kernelspec": {
      "name": "python3",
      "display_name": "Python 3"
    },
    "language_info": {
      "name": "python"
    }
  },
  "cells": [
    {
      "cell_type": "markdown",
      "metadata": {
        "id": "view-in-github",
        "colab_type": "text"
      },
      "source": [
        "<a href=\"https://colab.research.google.com/github/simsekahmet/basic_ML_with_tensorflow/blob/main/basic_ML_with_tensorflow.ipynb\" target=\"_parent\"><img src=\"https://colab.research.google.com/assets/colab-badge.svg\" alt=\"Open In Colab\"/></a>"
      ]
    },
    {
      "cell_type": "code",
      "execution_count": null,
      "metadata": {
        "id": "vfFn0zBSdpHo"
      },
      "outputs": [],
      "source": [
        "import tensorflow as tf\n",
        "import numpy as np\n",
        "import matplotlib.pyplot as plt\n",
        "import seaborn as sns\n",
        "sns.set()"
      ]
    },
    {
      "cell_type": "code",
      "source": [
        "def basic_ML_with_tensorflow(obs, w1, w2, b, epochs, learning_rate = 0.02):\n",
        "    \"\"\"Basic machine learning with tensorflow. Forecast your weights and biases with tensorflow ML.\n",
        "\n",
        "    --------------------\n",
        "    Args:\n",
        "        obs (int): shape value for row of xs, zs (target function)\n",
        "        w1 (int, float): weight of xs\n",
        "        w2 (int, float): weight of zs\n",
        "        b (int, float): bias\n",
        "        epochs (int): number of iteration\n",
        "        learning_rate (float, optional): the step size or the magnitude of the loss function updates. Defaults to 0.01.\n",
        "\n",
        "    --------------------\n",
        "    Return:\n",
        "        weights: Final weights of ML model\n",
        "        bias: Final bias of ML model\n",
        "\n",
        "    --------------------\n",
        "    Notes:\n",
        "        target = w1*xs + w2*zs + b + noise\n",
        "    \"\"\"\n",
        "\n",
        "    xs = np.random.uniform(-10,\n",
        "                            10,\n",
        "                            size=(obs,1))\n",
        "    zs = np.random.uniform(-10,\n",
        "                            10,\n",
        "                            size=(obs,1))\n",
        "\n",
        "    input = np.column_stack((xs, zs))\n",
        "\n",
        "    noise = np.random.uniform(-1,\n",
        "                                1,\n",
        "                                size=(obs,1))\n",
        "\n",
        "    input = np.column_stack((xs, zs))\n",
        "\n",
        "    target = w1*xs + w2*zs + b + noise\n",
        "\n",
        "    input_size = 2\n",
        "    output_size = 1\n",
        "\n",
        "    np.savez(\"tf\",\n",
        "            input= input,\n",
        "            target= target)\n",
        "\n",
        "    training_data = np.load(\"tf.npz\")\n",
        "\n",
        "    model = tf.keras.Sequential([tf.keras.layers.Dense(output_size,\n",
        "                                                        kernel_initializer = tf.random_uniform_initializer(minval= -0.1, maxval= 0.1),\n",
        "                                                        bias_initializer = tf.random_uniform_initializer(minval= -0.1, maxval= 0.1))\n",
        "                                ])\n",
        "\n",
        "    optimizer = tf.keras.optimizers.SGD(learning_rate=learning_rate)\n",
        "\n",
        "    model.compile(optimizer=optimizer,\n",
        "                loss=\"mean_squared_error\")\n",
        "\n",
        "    model.fit(training_data['input'],\n",
        "            training_data['target'],\n",
        "            epochs = epochs,\n",
        "            verbose = 0)\n",
        "\n",
        "    pred = model.predict_on_batch(training_data['input']).round(1)\n",
        "    real = training_data['target'].round(1)\n",
        "\n",
        "    w1 = model.layers[0].get_weights()[0][0][0]\n",
        "    w2 = model.layers[0].get_weights()[0][1][0]\n",
        "    b = model.layers[0].get_weights()[1][0]\n",
        "    print(\"w1:\", w1, \"\\nw2:\", w2, \"\\nb:\", b)\n",
        "\n",
        "    plt.plot(real, pred)\n"
      ],
      "metadata": {
        "id": "0uqFdzSTdwxo"
      },
      "execution_count": null,
      "outputs": []
    },
    {
      "cell_type": "code",
      "source": [
        "basic_ML_with_tensorflow(100, 6, 6, 5, 300, learning_rate = 0.01)"
      ],
      "metadata": {
        "id": "hq7RNwCdeXHa"
      },
      "execution_count": null,
      "outputs": []
    }
  ]
}